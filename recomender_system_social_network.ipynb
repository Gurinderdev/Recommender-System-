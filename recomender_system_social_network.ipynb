{
 "cells": [
  {
   "cell_type": "code",
   "execution_count": 206,
   "metadata": {
    "collapsed": false,
    "deletable": true,
    "editable": true
   },
   "outputs": [],
   "source": [
    "import numpy as np\n",
    "import pandas as pd\n",
    "\n",
    "import matplotlib.pyplot as plt\n",
    "import networkx as nx\n",
    "import pylab as graphplot\n",
    "from collections import Counter\n",
    "\n",
    "from sklearn.metrics import jaccard_similarity_score\n",
    "from sklearn import linear_model\n",
    "from sklearn.neural_network import MLPClassifier\n",
    "from sklearn import svm\n",
    "from sklearn.ensemble import GradientBoostingClassifier\n",
    "from sklearn.metrics import roc_curve, auc\n",
    "from sklearn.utils import shuffle\n",
    "from sklearn.externals import joblib\n",
    "from sklearn.neural_network import MLPClassifier\n",
    "from sklearn.metrics import classification_report,confusion_matrix ,accuracy_score\n"
   ]
  },
  {
   "cell_type": "markdown",
   "metadata": {},
   "source": [
    "# LOAD DATA \n",
    "Create Dataset"
   ]
  },
  {
   "cell_type": "code",
   "execution_count": 208,
   "metadata": {
    "collapsed": false
   },
   "outputs": [
    {
     "name": "stdout",
     "output_type": "stream",
     "text": [
      "C:\\Users\\gurin\\Desktop\\Resume\\Projects\\Recomender System\n"
     ]
    }
   ],
   "source": [
    "cd \"C:\\Users\\gurin\\Desktop\\Resume\\Projects\\Recomender System\""
   ]
  },
  {
   "cell_type": "code",
   "execution_count": 209,
   "metadata": {
    "collapsed": false
   },
   "outputs": [
    {
     "data": {
      "text/html": [
       "<div>\n",
       "<style>\n",
       "    .dataframe thead tr:only-child th {\n",
       "        text-align: right;\n",
       "    }\n",
       "\n",
       "    .dataframe thead th {\n",
       "        text-align: left;\n",
       "    }\n",
       "\n",
       "    .dataframe tbody tr th {\n",
       "        vertical-align: top;\n",
       "    }\n",
       "</style>\n",
       "<table border=\"1\" class=\"dataframe\">\n",
       "  <thead>\n",
       "    <tr style=\"text-align: right;\">\n",
       "      <th></th>\n",
       "      <th>follower_id</th>\n",
       "      <th>followee_id</th>\n",
       "    </tr>\n",
       "  </thead>\n",
       "  <tbody>\n",
       "    <tr>\n",
       "      <th>0</th>\n",
       "      <td>4</td>\n",
       "      <td>2</td>\n",
       "    </tr>\n",
       "    <tr>\n",
       "      <th>1</th>\n",
       "      <td>2</td>\n",
       "      <td>4</td>\n",
       "    </tr>\n",
       "    <tr>\n",
       "      <th>2</th>\n",
       "      <td>6</td>\n",
       "      <td>2</td>\n",
       "    </tr>\n",
       "  </tbody>\n",
       "</table>\n",
       "</div>"
      ],
      "text/plain": [
       "   follower_id  followee_id\n",
       "0            4            2\n",
       "1            2            4\n",
       "2            6            2"
      ]
     },
     "execution_count": 209,
     "metadata": {},
     "output_type": "execute_result"
    }
   ],
   "source": [
    "followerFile = pd.read_csv(\"follows.csv\") \n",
    "interestFile = pd.read_csv(\"interests.csv\")\n",
    "\n",
    "# sample of the data \n",
    "# here in the first row ...user_id 4 follows user_id 2 ...\n",
    "# Thus follower_id is 4 and followee_id is 2 \n",
    "followerFile.head(3)"
   ]
  },
  {
   "cell_type": "markdown",
   "metadata": {},
   "source": [
    "# Building Dictionaries\n",
    "To relate lets follow a user say \"SAM\" (note in our data we have only numbers for users : Data privacy man!!!!)\n",
    "So we have to build 3 dictionaries \n",
    "1) for all other users SAM is following\n",
    "2) for all users Following SAM\n",
    "3) for all the interest of SAM"
   ]
  },
  {
   "cell_type": "code",
   "execution_count": 210,
   "metadata": {
    "collapsed": false
   },
   "outputs": [
    {
     "name": "stdout",
     "output_type": "stream",
     "text": [
      " The dictionary for FOLLOWER will look like this ... if we select SAM (say user 2) [4L, 20L, 46L, 6L, 702L, 62L, 78L, 120L, 36L, 16L, 12L, 5860L, 22L]\n",
      "\n",
      " the dictionary for FOLLOWEE  will look like this ... if we select SAM (say user 2)  [4L, 6L, 8L, 24L, 12L, 10L, 40L, 44L, 46L, 56L, 70L, 444L, 92L, 138L, 50L, 338L, 634L, 36L, 426L, 196L, 62L, 596L, 2418L, 2746L, 26L, 5114L, 1574L, 6142L, 5736L, 22L]\n",
      "\n",
      " the dictionary for INTEREST will look like this ... if we select SAM (say user 2) ['Guadeloupe', 'Bucharest', 'Blues', 'Algeria', 'Government', 'Switzerland']\n"
     ]
    }
   ],
   "source": [
    "# dictionary to show User is FOLLOWER of\n",
    "FollowerList = {k:interest[\"followee_id\"].tolist() for k,interest in followerFile.groupby(\"follower_id\")}\n",
    "\n",
    "# dictionary to show User is being followed by \n",
    "\n",
    "FolloweeList = {k:interest[\"follower_id\"].tolist() for k,interest in followerFile.groupby(\"followee_id\")}\n",
    "\n",
    "# to show interest list of a user\n",
    "\n",
    "InterestUserList = {k:interest[\"category\"].tolist() for k,interest in interestFile.groupby(\"user_id\")}  \n",
    "\n",
    "print \" The dictionary for FOLLOWER will look like this ... if we select SAM (say user 2)\" , FollowerList[2]\n",
    "\n",
    "print \"\"\n",
    "print \" the dictionary for FOLLOWEE  will look like this ... if we select SAM (say user 2) \" , FolloweeList[2]\n",
    "\n",
    "print \"\"\n",
    "\n",
    "print \" the dictionary for INTEREST will look like this ... if we select SAM (say user 2)\" , InterestUserList[2]\n",
    "\n"
   ]
  },
  {
   "cell_type": "markdown",
   "metadata": {},
   "source": [
    "# THE DISTANCE MEASURE :\n",
    "______________________\n",
    "\n",
    "I looked at the various distance measures and there are over a 100 of them !!!!\n",
    "\n",
    "From Euclidian , To Cosine , I looked at them to zone on to the chosen one........\n",
    "\n",
    "Our DISTANCE MEASURE --------JACKARD INDEX \n",
    "\n",
    "JACKARD index for a user A and user B is calculated as  (Intersection of A and B) / (Union of A and B)\n",
    "\n",
    "This index works great for us it Rewards for Comminality and at the same time does not Penalise for Differnces. This key feature is what works for social networks as opposed to Eucledian disatance that Penalises for Differnces, Thus making it not appropiate for network distances. \n",
    "________________________________________________________________________________________________________________________________\n",
    "\n",
    "As we have to draw information about 3 pieces of information  - Follower , Followee , and Interests , We need to build 3 Jackard Index one for each of them . \n",
    "\n",
    "After much analysis and a stroke of origional thinking , we decided to name them\n",
    "JaccardFollowerList\n",
    "JaccardFolloweeList\n",
    "JaccardInterestList"
   ]
  },
  {
   "cell_type": "code",
   "execution_count": 211,
   "metadata": {
    "collapsed": false
   },
   "outputs": [],
   "source": [
    "def ComputeJaccardSimilarityIndexes(listToAnalyze):\n",
    "    \n",
    "    '''\n",
    "    will take as input \n",
    "    \n",
    "    an array with two columns - Follower_id , Followee_id\n",
    "    \n",
    "    will retrun 3 Lists :\n",
    "   \n",
    "    JaccardFollowerList\n",
    "    JaccardFolloweeList\n",
    "    JaccardInterestList\n",
    "    \n",
    "    Logic for script:\n",
    "    __________________\n",
    "    \n",
    "    1)As we need to find comonality and union , we are using \"SET\" which has convinent command \"Interscetion\" to find the \n",
    "    common elements in sets. \n",
    "    2) once we get the set we convert it into  a list and then take the count of the number of elements\n",
    "    3) since it is a division , we convert the count to float, cause we may get '0' in integer division. \n",
    "    4) As we need three list and for all enteries therefore, we run 1 for loop and within that 3 if - else.\n",
    "             \n",
    "    '''\n",
    "    \n",
    "\t#Create three new lists to store the jaccard similarity scores based on Followee , Follower , and Interests\n",
    "    JaccardFolloweeList = list()\n",
    "    JaccardFollowerList= list()\n",
    "    JaccardInterestList= list()\n",
    "\n",
    "    for UserNumber in range(0,len(listToAnalyze)):\n",
    "        # for Jackard based on Followee\n",
    "\t\t\t\n",
    "        if listToAnalyze[UserNumber,0] in FolloweeList.keys() and listToAnalyze[UserNumber,1] in FolloweeList.keys():\n",
    "\t\t\tJaccardFolloweeValue = float(len(list(set(FolloweeList[listToAnalyze[UserNumber,0]]).intersection(FolloweeList[listToAnalyze[UserNumber,1]]))))/(len(set(FolloweeList[listToAnalyze[UserNumber,0]] + FolloweeList[listToAnalyze[UserNumber,1]])))\t\n",
    "\t\n",
    "        else:\n",
    "\t\t\tJaccardFolloweeValue = 0\n",
    "         # for Jackard based on Follower\n",
    "\n",
    "        if listToAnalyze[UserNumber,1] in FollowerList.keys() and listToAnalyze[UserNumber,0] in FollowerList.keys():\n",
    "\t\t\tJaccardFollowerValue = float(len(list(set(FollowerList[listToAnalyze[UserNumber,0]]).intersection(FollowerList[listToAnalyze[UserNumber,1]]))))/(len(set(FollowerList[listToAnalyze[UserNumber,0]] + FollowerList[listToAnalyze[UserNumber,1]])))\n",
    "\t\n",
    "        else:\n",
    "\t\t\tJaccardFollowerValue = 0\n",
    "        \n",
    "\t\t # for Jackard based on Interest\n",
    "        if (listToAnalyze[UserNumber,0] in InterestUserList.keys()) and (listToAnalyze[UserNumber,1] in InterestUserList.keys()):\n",
    "\t\t\tJaccardInterestValue = float(len(list(set(InterestUserList[listToAnalyze[UserNumber,0]]).intersection(InterestUserList[listToAnalyze[UserNumber,1]]))))/(len(set(InterestUserList[listToAnalyze[UserNumber,0]] + InterestUserList[listToAnalyze[UserNumber,1]])))\n",
    "\t\n",
    "        else:\n",
    "\t\t\tJaccardInterestValue =0\t\t\n",
    "\n",
    "\t\t#Append FolloweeIndex for the pair to Jaccard Followee list\n",
    "        JaccardFolloweeList.append(JaccardFolloweeValue)\n",
    "\n",
    "\t\t#Append FolloweeIndex to JAckard Follower list\n",
    "        JaccardFollowerList.append(JaccardFollowerValue)\n",
    "\n",
    "\t\t#Append Interest Jaccard score to Jackard Interest list\n",
    "        JaccardInterestList.append(JaccardInterestValue)\n",
    "\t\n",
    "    return JaccardFolloweeList,JaccardFollowerList,JaccardInterestList\n",
    "\n",
    "\n"
   ]
  },
  {
   "cell_type": "markdown",
   "metadata": {},
   "source": [
    "# DATA TROUBLE.................nothing new ....happens all the time\n",
    "_____________\n",
    "\n",
    "DATA is Skewed ....Only Target = 1 (users that follow each other is known).\n",
    "\n",
    "As we have data of only users that are following one another, we have essentialy values that correspond to Target = 1.\n",
    "\n",
    "For this based on the data for entire users , we created a pairing of users that were not in the origional database and used this as Target = 0 \n",
    "\n",
    "The models that we would be using will be based on a database that would have a 50:50 split of Target 1 and Target 0\n"
   ]
  },
  {
   "cell_type": "code",
   "execution_count": 212,
   "metadata": {
    "collapsed": false
   },
   "outputs": [
    {
     "data": {
      "text/html": [
       "<div>\n",
       "<style>\n",
       "    .dataframe thead tr:only-child th {\n",
       "        text-align: right;\n",
       "    }\n",
       "\n",
       "    .dataframe thead th {\n",
       "        text-align: left;\n",
       "    }\n",
       "\n",
       "    .dataframe tbody tr th {\n",
       "        vertical-align: top;\n",
       "    }\n",
       "</style>\n",
       "<table border=\"1\" class=\"dataframe\">\n",
       "  <thead>\n",
       "    <tr style=\"text-align: right;\">\n",
       "      <th></th>\n",
       "      <th>FollowerId</th>\n",
       "      <th>FolloweeId</th>\n",
       "    </tr>\n",
       "  </thead>\n",
       "  <tbody>\n",
       "    <tr>\n",
       "      <th>0</th>\n",
       "      <td>4662</td>\n",
       "      <td>1046</td>\n",
       "    </tr>\n",
       "  </tbody>\n",
       "</table>\n",
       "</div>"
      ],
      "text/plain": [
       "   FollowerId  FolloweeId\n",
       "0        4662        1046"
      ]
     },
     "execution_count": 212,
     "metadata": {},
     "output_type": "execute_result"
    }
   ],
   "source": [
    "# creates data with target = 0\n",
    "FollowerFileWithTargetZero = pd.read_csv(\"TargetZeroList.csv\") \n",
    "\n",
    "#sample of the data\n",
    "FollowerFileWithTargetZero.head(1)"
   ]
  },
  {
   "cell_type": "markdown",
   "metadata": {},
   "source": [
    "# Building data for Logistic Regression\n",
    "\n",
    "With our functions in place ... time to get ready Variables for our model :Logistic Regression \n",
    "\n",
    "We will be treating the Jackard Index as a variable(continuous) for Logistic Regression to read and fit. \n",
    "\n",
    "For this we need to do the following :\n",
    "1) we create two seperate inputs for Target 0 and Target 1 \n",
    "2) Based on each input file for target 0 and for target 1 we will be calling on our function ComputeJaccardSimilarityIndexes    "
   ]
  },
  {
   "cell_type": "code",
   "execution_count": 214,
   "metadata": {
    "collapsed": false
   },
   "outputs": [],
   "source": [
    "listOfUsersTargetOne = list()\t#List of users with target value 1 i.e. follower follows other user\n",
    "listOfUsersTargetZero = list()\t#List of users with target value 0 i.e. follower doesnot follow the other user\n",
    "\n",
    "# get different list for target 1 and target 0 \n",
    "\n",
    "JaccardFolloweeListTargetOne = list()\t#List to store jaccard index of similarity based on Followee status\n",
    "JaccardFollowerListTargetOne = list()\t#List to store jaccard index of similarity between the Follower status\n",
    "JaccardInterestListTargetOne = list()   #List to store jaccard index of interests between the users based on Interest\n",
    "\n",
    "JaccardFolloweeListTargetZero = list()\t#List to store jaccard index of similarity for target zero file based on Followee status\n",
    "JaccardFollowerListTargetZero = list()\t#List to store jaccard index of similarity for target zero file between the Follower status\n",
    "JaccardInterestListTargetZero = list()   #List to store jaccard index of interests between the users for target zero file\n",
    "\n",
    "\n",
    "#1.Create a list of users and their followee from the folows.csv\n",
    "#2. Now we have the list for which the target is zero since we know that these users already follow the other users\n",
    "#3. We calculate the jaccard index for these user combinations i.e. follower followee combination\n",
    "\n",
    "for rowIndex in range(0,len(followerFile)):\n",
    "\tlistOfUsersTargetOne.append(followerFile.iloc[rowIndex,:])\n",
    "\n",
    "#Populate numpy array for target zero lists\n",
    "for rowIndex in range(0,len(FollowerFileWithTargetZero)):\n",
    "\tlistOfUsersTargetZero.append(FollowerFileWithTargetZero.iloc[rowIndex,:])\n",
    "    \n",
    "## convert list to array \n",
    "listOfUsersTargetOne = np.array(listOfUsersTargetOne)\n",
    "listOfUsersTargetZero = np.array(listOfUsersTargetZero)\n",
    "\n",
    "#Calculate the 3 jackard index for data with target = 1\n",
    "JaccardFolloweeValueTargetOne,JaccardFollowerValueTargetOne,JaccardInterestListTargetOne = ComputeJaccardSimilarityIndexes(listOfUsersTargetOne)\n",
    "\n",
    "#Calculate the 3 jackard index for data with target = 0\n",
    "JaccardFolloweeValueTargetZero,JaccardFollowerValueTargetZero,JaccardInterestListTargetZero = ComputeJaccardSimilarityIndexes(listOfUsersTargetZero)\t\n",
    "\n",
    "#Populate Dataframe for target 1 elements\n",
    "followerFile['JaccardFollowerIndex'] = JaccardFollowerValueTargetOne\n",
    "followerFile['JaccardFolloweeIndex'] = JaccardFolloweeValueTargetOne\n",
    "followerFile['JaccardInterestIndex'] = JaccardInterestListTargetOne\n",
    "targetListForPositiveCases = [1] * len(followerFile)\t#target = 1 since they follow the followee\n",
    "followerFile['Target'] = targetListForPositiveCases\t\t#Create a target column in the dataframe\n",
    "\n",
    "#Populate dataframe with target 0 elements\n",
    "FollowerFileWithTargetZero['JaccardFollowerIndex'] = JaccardFollowerValueTargetZero\n",
    "FollowerFileWithTargetZero['JaccardFolloweeIndex'] = JaccardFolloweeValueTargetZero\n",
    "FollowerFileWithTargetZero['JaccardInterestIndex'] = JaccardInterestListTargetZero\n",
    "targetListForNoConnectionCases = [0] * len(FollowerFileWithTargetZero) #target = 0 since they don't follow the followee as per the dataset i.e. no info given\n",
    "FollowerFileWithTargetZero['Target'] = targetListForNoConnectionCases\t#Create a target column in the dataframe\n",
    "\n"
   ]
  },
  {
   "cell_type": "markdown",
   "metadata": {},
   "source": [
    "# Creating data for x_train, y_train ,x_test , y_test\n",
    "\n",
    "1) create a function that gives us the above 4 output. \n",
    "2) this function would be called on to seperate the user_ids from the data. "
   ]
  },
  {
   "cell_type": "code",
   "execution_count": 215,
   "metadata": {
    "collapsed": false
   },
   "outputs": [],
   "source": [
    "def populateDatasets():\n",
    "    '''\n",
    "    The function would output 4 files:\n",
    "    \n",
    "    TrainTargetList\n",
    "\tTestTargetList\n",
    "\tTrainList\n",
    "\tTestList\n",
    "       \n",
    "    These will be used to build the models\n",
    "    '''\n",
    "\t\n",
    "\t#create lists which will be populated\n",
    "    TrainTargetList = list()\n",
    "    TestTargetList = list()\n",
    "    TrainList = list()\n",
    "    TestList = list()\n",
    "\n",
    "    # merget the 2 files - files with data for Target = 1 and Target =0\n",
    "   \n",
    "    DataframeTrainingInputMerged = [followerFile.iloc[:40000,2:],FollowerFileWithTargetZero.iloc[:40000,2:]]\n",
    "    DataframeTrainingInputMerged = pd.concat(DataframeTrainingInputMerged)\n",
    "\n",
    "\t#Shuffle the dataset created to haveshuffled target values in the dataset\n",
    "    DataframeTrainingInputMerged = shuffle(DataframeTrainingInputMerged)\n",
    "\n",
    "\t#First three columns are the training jaccard inputs\n",
    "\t#\tFormat of dataset : Columns are    Jaccard1      Jaccard2     Jaccard3      Target\n",
    "    \n",
    "    TrainList = DataframeTrainingInputMerged.iloc[:,:3]\n",
    "\n",
    "\t#Last column i.e. column 3 is the target column\n",
    "    \n",
    "    TrainTargetList = DataframeTrainingInputMerged.iloc[:,3]\n",
    "\n",
    "\t#Join the two dataset i.e. target =1 and target = 0 datasets to one dataframe\n",
    "    \n",
    "    DataframeTestingInputMerged = [followerFile.iloc[40001:,2:],FollowerFileWithTargetZero.iloc[40001:,2:]]\n",
    "    DataframeTestingInputMerged = pd.concat(DataframeTestingInputMerged)\n",
    "\n",
    "\t#Shuffle the dataset\n",
    "    DataframeTestingInputMerged = shuffle(DataframeTestingInputMerged)\n",
    "\n",
    "\t#First three columns are the testing jaccard inputs\n",
    "\t#\tFormat of dataset :Jaccard1     Jaccard2     Jaccard3     Target\n",
    "    \n",
    "    TestList = DataframeTestingInputMerged.iloc[:,:3]\n",
    "\n",
    "\t#Last column i.e. column 3 is the target column\n",
    "    TestTargetList = DataframeTestingInputMerged.iloc[:,3]\n",
    "\n",
    "\t#return the lists created\n",
    "    return TrainTargetList,TestTargetList,TrainList,TestList"
   ]
  },
  {
   "cell_type": "markdown",
   "metadata": {},
   "source": [
    "calling on the funtion for creating the databases"
   ]
  },
  {
   "cell_type": "code",
   "execution_count": 216,
   "metadata": {
    "collapsed": true
   },
   "outputs": [],
   "source": [
    "y_train = list()\n",
    "y_test = list()\n",
    "x_train = list()\n",
    "x_test = list()\n",
    "\n",
    "#Populate the training and testing lists using the below function\n",
    "y_train,y_test, x_train,x_test = populateDatasets()"
   ]
  },
  {
   "cell_type": "markdown",
   "metadata": {},
   "source": [
    "# Evaluation of the model : \n",
    "\n",
    "    1)ROC curve\n",
    "    2)Accuracy\n",
    "    3)False Positive and False Negative\n",
    "    4) Presicion , Recall and F1 - score \n",
    "\n",
    "For this we have build 2 functions\n",
    "\n",
    "1) plotRocCurve - this will give us idea how good our model is doing with a visual tool\n",
    "\n",
    "2) evaluation - This will get multiple metrics to help decide the efficacy of our model    \n",
    "   "
   ]
  },
  {
   "cell_type": "code",
   "execution_count": 217,
   "metadata": {
    "collapsed": false
   },
   "outputs": [],
   "source": [
    "#This function takes the false positive rate,true positive rate and the roc_area under the curve calculated before. It also takes the name of the model as an argument\n",
    "def plotRocCurve(fpr, tpr,roc_auc,NameOfModel):\n",
    "\tlw = 1\n",
    "\tplt.plot(fpr, tpr,\n",
    "\t\t     lw=lw, label='ROC curve for ' + NameOfModel + ' ' + str(roc_auc))\n",
    "\tplt.plot([0, 1], [0, 1], color='black', lw=lw, linestyle='--')\n",
    "\tplt.xlim([0.0, 1.0])\n",
    "\tplt.ylim([0.0, 1.05])\n",
    "\tplt.xlabel('False Positive Rate')\n",
    "\tplt.ylabel('True Positive Rate')\n",
    "\tplt.title('Receiver operating characteristic example for: ' + NameOfModel)\n",
    "\tplt.legend(loc=\"lower right\")\n",
    "\tplt.show()\n",
    "    \n",
    "def evaluation (y_test, prediction):\n",
    "    '''\n",
    "    input :\n",
    "    \n",
    "    y_test : test target data\n",
    "    \n",
    "    prediction : the predicted target of the test data\n",
    "                 \n",
    "    \n",
    "    output :\n",
    "    \n",
    "    confusion_matrix\n",
    "    classification_report\n",
    "    accuracy_score\n",
    "            \n",
    "    '''\n",
    "    \n",
    "    print \"Confusion matrix is : \" , confusion_matrix(y_test,predictions)\n",
    "    print \"\"\n",
    "    print \"Classificatin report is : \" , classification_report(y_test,predictions)\n",
    "    print \"\"\n",
    "    print \"Accuracy Score is  :\" ,accuracy_score(y_test,predictions) \n",
    "    "
   ]
  },
  {
   "cell_type": "markdown",
   "metadata": {},
   "source": [
    "# Model :Logistic Regression\n",
    "\n",
    "1) We are using Sklearn libarary for logistic regression\n",
    "2) using functions\n",
    "    a) plotRocCurve\n",
    "    b) evaluation "
   ]
  },
  {
   "cell_type": "code",
   "execution_count": 218,
   "metadata": {
    "collapsed": false
   },
   "outputs": [
    {
     "data": {
      "image/png": "[encoded data removed]",
      "text/plain": [
       "<matplotlib.figure.Figure at 0x38b6c400>"
      ]
     },
     "metadata": {},
     "output_type": "display_data"
    },
    {
     "name": "stdout",
     "output_type": "stream",
     "text": [
      "Confusion matrix is :  [[7598 1889]\n",
      " [ 716 8788]]\n",
      "\n",
      "Classificatin report is :               precision    recall  f1-score   support\n",
      "\n",
      "          0       0.91      0.80      0.85      9487\n",
      "          1       0.82      0.92      0.87      9504\n",
      "\n",
      "avg / total       0.87      0.86      0.86     18991\n",
      "\n",
      "\n",
      "Accuracy Score is  : 0.8628297614659576\n"
     ]
    }
   ],
   "source": [
    "LogisticRegression = linear_model.LogisticRegression()\n",
    "\n",
    "LogisticRegression.fit (x_train,y_train)\n",
    "joblib.dump(LogisticRegression,'LogisticRegression.pkl')\n",
    "\n",
    "fpr = dict()\n",
    "tpr = dict()\n",
    "roc_auc = dict()\n",
    "prob_y = LogisticRegression.predict_proba(x_test)\n",
    "predictions = LogisticRegression.predict(x_test)\n",
    "fpr, tpr,thresholds = roc_curve(y_test, prob_y[:,1]) #the first column has the scores for target 1\n",
    "roc_auc = auc(fpr, tpr)\n",
    "\n",
    "# call on plotRocCurve to get the ROC curve \n",
    "plotRocCurve(fpr, tpr,roc_auc,'Logistic Regression')\n",
    "\n",
    "# call on evaluation for metrics\n",
    "evaluation(y_test,predictions)"
   ]
  },
  {
   "cell_type": "markdown",
   "metadata": {},
   "source": [
    "# Analysis\n",
    "\n",
    "\n",
    "# The ROC curve :\n",
    "The curve shows how good a predictor is the model . With an accuracy score of 86.28% it is a good model, Since the data is balanced. \n",
    "\n",
    "\n",
    "# Confusion Matrix\n",
    "the left to right diagnol gives the correct classification (True Positive and True Negative)\n",
    "This is a good metric . When compared with the False Positve and False Negative.\n",
    "\n",
    "Our model was able to pic out 7598 correct classification with  1889 it got wrong. \n",
    "\n",
    "But even better it was able to predict 8788 correct classification where no connection was present with the user with 716 it got wrong. \n",
    "\n",
    "# Classification Report\n",
    "The precision , recall and F1-score are healthy."
   ]
  }
 ],
 "metadata": {
  "kernelspec": {
   "display_name": "Python 2",
   "language": "python",
   "name": "python2"
  },
  "language_info": {
   "codemirror_mode": {
    "name": "ipython",
    "version": 2
   },
   "file_extension": ".py",
   "mimetype": "text/x-python",
   "name": "python",
   "nbconvert_exporter": "python",
   "pygments_lexer": "ipython2",
   "version": "2.7.13"
  }
 },
 "nbformat": 4,
 "nbformat_minor": 2
}
